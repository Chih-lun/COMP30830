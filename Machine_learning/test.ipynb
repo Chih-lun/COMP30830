{
 "cells": [
  {
   "cell_type": "code",
   "execution_count": 27,
   "metadata": {},
   "outputs": [],
   "source": [
    "from statsmodels.tsa.api import VAR\n",
    "from sqlalchemy import create_engine\n",
    "import pandas as pd\n",
    "\n",
    "URI = \"database-1.c5ekejexdq4k.us-east-1.rds.amazonaws.com\"\n",
    "PORT = \"3306\"\n",
    "DB = \"dublin_bike\"\n",
    "USER = \"admin\"\n",
    "PASSWARD = \"group888\"\n",
    "\n",
    "engine = create_engine(\"mysql+mysqlconnector://{}:{}@{}:{}/{}\".format(USER, PASSWARD, URI, PORT, DB))\n",
    "df_bike = pd.read_sql_table(\"bike_availibility\", engine, parse_dates=\"True\", index_col=0)\n",
    "df_weather = pd.read_sql_table(\"weather\", engine, parse_dates=\"True\", index_col=0)\n",
    "\n",
    "df_combine = df_bike.merge(df_weather,left_on='Time', right_on='Time')\n",
    "\n",
    "def build_model(number,step):\n",
    "    # 10 min per step\n",
    "    df_test_station=df_combine.groupby(\"Number\").get_group(number)\n",
    "    df_test_station = df_test_station.drop(['Number', 'ID_x', 'ID_y', 'Status', 'Weather', \"Feels_like\"], axis=1)\n",
    "    df_test_station = df_test_station.set_index('Time')\n",
    "    \n",
    "    model = VAR(df_test_station)\n",
    "    result = model.fit(4)\n",
    "    pred = result.forecast(y=df_test_station.values, steps=step)\n",
    "    df_pred = pd.DataFrame(pred, columns=[\"Aviable_bike_stands\", \"Available_bike\", \"Temp\", \"Humidity\"])\n",
    "    return df_pred"
   ]
  },
  {
   "cell_type": "code",
   "execution_count": 29,
   "metadata": {},
   "outputs": [
    {
     "name": "stdout",
     "output_type": "stream",
     "text": [
      "0    7.054926\n",
      "1    7.131165\n",
      "Name: Temp, dtype: float64\n"
     ]
    },
    {
     "name": "stderr",
     "output_type": "stream",
     "text": [
      "/opt/anaconda3/envs/COMP30830/lib/python3.9/site-packages/statsmodels/tsa/base/tsa_model.py:471: ValueWarning: A date index has been provided, but it has no associated frequency information and so will be ignored when e.g. forecasting.\n",
      "  self._init_dates(dates, freq)\n"
     ]
    }
   ],
   "source": [
    "t = build_model(10, 2)\n",
    "print(t[\"Temp\"])"
   ]
  }
 ],
 "metadata": {
  "interpreter": {
   "hash": "4463ce3fddf891649054d523bbc2fe0ae4de1e28455da2c9471dffd11c5b1b9e"
  },
  "kernelspec": {
   "display_name": "Python 3.9.7 ('COMP30830')",
   "language": "python",
   "name": "python3"
  },
  "language_info": {
   "codemirror_mode": {
    "name": "ipython",
    "version": 3
   },
   "file_extension": ".py",
   "mimetype": "text/x-python",
   "name": "python",
   "nbconvert_exporter": "python",
   "pygments_lexer": "ipython3",
   "version": "3.9.7"
  },
  "orig_nbformat": 4
 },
 "nbformat": 4,
 "nbformat_minor": 2
}
